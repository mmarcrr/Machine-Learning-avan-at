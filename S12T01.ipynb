{
 "cells": [
  {
   "cell_type": "markdown",
   "metadata": {},
   "source": [
    "S12 T01: Pipelines, grid search i text mining\n",
    "\n",
    "Descripció\n",
    "\n",
    "Comencem a familiaritzar-nos amb Pipelines, grid search i text mining !!! Comencem amb uns quants exercicis bàsics\n",
    "Nivell 1\n",
    "- Exercici 1\n",
    "\n",
    "Agafa el conjunt de dades que vulguis i realitza un pipeline i un gridsearch aplicant l'algorisme de Random Forest.\n",
    "\n"
   ]
  },
  {
   "cell_type": "code",
   "execution_count": null,
   "metadata": {
    "vscode": {
     "languageId": "plaintext"
    }
   },
   "outputs": [],
   "source": []
  },
  {
   "cell_type": "markdown",
   "metadata": {},
   "source": [
    "- Exercici 2\n",
    "\n",
    "Agafa un text en anglès que vulguis, i calcula'n la freqüència de les paraules\n",
    "\n",
    "Nivell 2\n",
    "- Exercici 1\n",
    "\n",
    "Treu les stopwords i realitza stemming al teu conjunt de dades."
   ]
  },
  {
   "cell_type": "markdown",
   "metadata": {},
   "source": [
    "Nivell 3\n",
    "- Exercici 1\n",
    "\n",
    "Realitza sentiment analysis al teu conjunt de dades.\n",
    "Recursos\n",
    "\n",
    "Recursos de l'aula i https://www.nltk.org"
   ]
  }
 ],
 "metadata": {
  "language_info": {
   "name": "python"
  },
  "orig_nbformat": 4
 },
 "nbformat": 4,
 "nbformat_minor": 2
}
